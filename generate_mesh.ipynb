{
 "cells": [
  {
   "cell_type": "code",
   "execution_count": null,
   "metadata": {},
   "outputs": [],
   "source": [
    "import cv2\n",
    "import os\n",
    "\n",
    "def video_to_jpg(video_path, output_folder, frame_interval=1):\n",
    "    if not os.path.exists(output_folder):\n",
    "        os.makedirs(output_folder)\n",
    "\n",
    "    video = cv2.VideoCapture(video_path)\n",
    "    \n",
    "    # Get video properties\n",
    "    fps = int(video.get(cv2.CAP_PROP_FPS))\n",
    "    total_frames = int(video.get(cv2.CAP_PROP_FRAME_COUNT))\n",
    "    duration = total_frames / fps if fps > 0 else 0\n",
    "\n",
    "    print(f\"Video FPS: {fps}\")\n",
    "    print(f\"Total frames (reported): {total_frames}\")\n",
    "    print(f\"Video duration: {duration:.2f} seconds\")\n",
    "\n",
    "    frame_count = 0\n",
    "    saved_count = 0\n",
    "\n",
    "    while True:\n",
    "        success, frame = video.read()\n",
    "        \n",
    "        if not success:\n",
    "            break\n",
    "\n",
    "        if frame_count % frame_interval == 0:\n",
    "            output_path = os.path.join(output_folder, f\"frame_{frame_count:06d}.jpg\")\n",
    "            cv2.imwrite(output_path, frame)\n",
    "            saved_count += 1\n",
    "\n",
    "        frame_count += 1\n",
    "\n",
    "        if frame_count % 100 == 0:\n",
    "            print(f\"Processing: {frame_count}/{total_frames} frames\", end=\"\\r\")\n",
    "\n",
    "    video.release()\n",
    "\n",
    "    print(f\"\\nActual frames processed: {frame_count}\")\n",
    "    print(f\"Images saved: {saved_count}\")\n",
    "    print(f\"Done! Extracted {saved_count} images.\")\n",
    "\n",
    "    if frame_count < total_frames:\n",
    "        print(f\"Warning: Processed fewer frames ({frame_count}) than reported ({total_frames}).\")\n",
    "        print(\"This may be due to an inaccurate frame count reported by the video file.\")\n",
    "\n",
    "# Example usage\n",
    "video_path = \"house.MP4\"\n",
    "output_folder = \"pt-input6\"\n",
    "frame_interval = 20  # Save every 10th frame\n",
    "\n",
    "video_to_jpg(video_path, output_folder, frame_interval)"
   ]
  },
  {
   "cell_type": "code",
   "execution_count": null,
   "metadata": {},
   "outputs": [],
   "source": [
    "import tensorflow as tf\n",
    "device_name = tf.test.gpu_device_name()\n",
    "if device_name != '/device:GPU:0':\n",
    "  raise SystemError('GPU device not found')\n",
    "print('Found GPU at: {}'.format(device_name))"
   ]
  },
  {
   "cell_type": "code",
   "execution_count": null,
   "metadata": {},
   "outputs": [],
   "source": [
    "# get Meshroom  \n",
    "!wget -N https://github.com/alicevision/meshroom/releases/download/v2019.1.0/Meshroom-2019.1.0-linux.tar.gz\n",
    "!mkdir meshroom\n",
    "!tar xzf Meshroom-2019.1.0-linux.tar.gz -C ./meshroom"
   ]
  },
  {
   "cell_type": "code",
   "execution_count": null,
   "metadata": {},
   "outputs": [],
   "source": [
    "!mkdir ./object_out4\n",
    "!./meshroom/Meshroom-2019.1.0/meshroom_photogrammetry --input ./pt-input6 --output ./object_out4"
   ]
  }
 ],
 "metadata": {
  "language_info": {
   "name": "python"
  }
 },
 "nbformat": 4,
 "nbformat_minor": 2
}
